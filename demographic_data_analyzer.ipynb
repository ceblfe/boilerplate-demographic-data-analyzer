{
 "cells": [
  {
   "cell_type": "markdown",
   "id": "9eecb9b1",
   "metadata": {},
   "source": [
    "# Demographic Data Analyzer"
   ]
  },
  {
   "cell_type": "code",
   "execution_count": 1,
   "id": "b99e1eef",
   "metadata": {},
   "outputs": [],
   "source": [
    "import pandas as pd"
   ]
  },
  {
   "cell_type": "code",
   "execution_count": 2,
   "id": "0abd9eef",
   "metadata": {},
   "outputs": [],
   "source": [
    "#Read the data from the CSV file\n",
    "df = pd.read_csv('adult.data.csv')"
   ]
  },
  {
   "cell_type": "code",
   "execution_count": 3,
   "id": "f34350e6",
   "metadata": {},
   "outputs": [
    {
     "data": {
      "text/html": [
       "<div>\n",
       "<style scoped>\n",
       "    .dataframe tbody tr th:only-of-type {\n",
       "        vertical-align: middle;\n",
       "    }\n",
       "\n",
       "    .dataframe tbody tr th {\n",
       "        vertical-align: top;\n",
       "    }\n",
       "\n",
       "    .dataframe thead th {\n",
       "        text-align: right;\n",
       "    }\n",
       "</style>\n",
       "<table border=\"1\" class=\"dataframe\">\n",
       "  <thead>\n",
       "    <tr style=\"text-align: right;\">\n",
       "      <th></th>\n",
       "      <th>age</th>\n",
       "      <th>workclass</th>\n",
       "      <th>fnlwgt</th>\n",
       "      <th>education</th>\n",
       "      <th>education-num</th>\n",
       "      <th>marital-status</th>\n",
       "      <th>occupation</th>\n",
       "      <th>relationship</th>\n",
       "      <th>race</th>\n",
       "      <th>sex</th>\n",
       "      <th>capital-gain</th>\n",
       "      <th>capital-loss</th>\n",
       "      <th>hours-per-week</th>\n",
       "      <th>native-country</th>\n",
       "      <th>salary</th>\n",
       "    </tr>\n",
       "  </thead>\n",
       "  <tbody>\n",
       "    <tr>\n",
       "      <th>0</th>\n",
       "      <td>39</td>\n",
       "      <td>State-gov</td>\n",
       "      <td>77516</td>\n",
       "      <td>Bachelors</td>\n",
       "      <td>13</td>\n",
       "      <td>Never-married</td>\n",
       "      <td>Adm-clerical</td>\n",
       "      <td>Not-in-family</td>\n",
       "      <td>White</td>\n",
       "      <td>Male</td>\n",
       "      <td>2174</td>\n",
       "      <td>0</td>\n",
       "      <td>40</td>\n",
       "      <td>United-States</td>\n",
       "      <td>&lt;=50K</td>\n",
       "    </tr>\n",
       "    <tr>\n",
       "      <th>1</th>\n",
       "      <td>50</td>\n",
       "      <td>Self-emp-not-inc</td>\n",
       "      <td>83311</td>\n",
       "      <td>Bachelors</td>\n",
       "      <td>13</td>\n",
       "      <td>Married-civ-spouse</td>\n",
       "      <td>Exec-managerial</td>\n",
       "      <td>Husband</td>\n",
       "      <td>White</td>\n",
       "      <td>Male</td>\n",
       "      <td>0</td>\n",
       "      <td>0</td>\n",
       "      <td>13</td>\n",
       "      <td>United-States</td>\n",
       "      <td>&lt;=50K</td>\n",
       "    </tr>\n",
       "    <tr>\n",
       "      <th>2</th>\n",
       "      <td>38</td>\n",
       "      <td>Private</td>\n",
       "      <td>215646</td>\n",
       "      <td>HS-grad</td>\n",
       "      <td>9</td>\n",
       "      <td>Divorced</td>\n",
       "      <td>Handlers-cleaners</td>\n",
       "      <td>Not-in-family</td>\n",
       "      <td>White</td>\n",
       "      <td>Male</td>\n",
       "      <td>0</td>\n",
       "      <td>0</td>\n",
       "      <td>40</td>\n",
       "      <td>United-States</td>\n",
       "      <td>&lt;=50K</td>\n",
       "    </tr>\n",
       "    <tr>\n",
       "      <th>3</th>\n",
       "      <td>53</td>\n",
       "      <td>Private</td>\n",
       "      <td>234721</td>\n",
       "      <td>11th</td>\n",
       "      <td>7</td>\n",
       "      <td>Married-civ-spouse</td>\n",
       "      <td>Handlers-cleaners</td>\n",
       "      <td>Husband</td>\n",
       "      <td>Black</td>\n",
       "      <td>Male</td>\n",
       "      <td>0</td>\n",
       "      <td>0</td>\n",
       "      <td>40</td>\n",
       "      <td>United-States</td>\n",
       "      <td>&lt;=50K</td>\n",
       "    </tr>\n",
       "    <tr>\n",
       "      <th>4</th>\n",
       "      <td>28</td>\n",
       "      <td>Private</td>\n",
       "      <td>338409</td>\n",
       "      <td>Bachelors</td>\n",
       "      <td>13</td>\n",
       "      <td>Married-civ-spouse</td>\n",
       "      <td>Prof-specialty</td>\n",
       "      <td>Wife</td>\n",
       "      <td>Black</td>\n",
       "      <td>Female</td>\n",
       "      <td>0</td>\n",
       "      <td>0</td>\n",
       "      <td>40</td>\n",
       "      <td>Cuba</td>\n",
       "      <td>&lt;=50K</td>\n",
       "    </tr>\n",
       "  </tbody>\n",
       "</table>\n",
       "</div>"
      ],
      "text/plain": [
       "   age         workclass  fnlwgt  education  education-num  \\\n",
       "0   39         State-gov   77516  Bachelors             13   \n",
       "1   50  Self-emp-not-inc   83311  Bachelors             13   \n",
       "2   38           Private  215646    HS-grad              9   \n",
       "3   53           Private  234721       11th              7   \n",
       "4   28           Private  338409  Bachelors             13   \n",
       "\n",
       "       marital-status         occupation   relationship   race     sex  \\\n",
       "0       Never-married       Adm-clerical  Not-in-family  White    Male   \n",
       "1  Married-civ-spouse    Exec-managerial        Husband  White    Male   \n",
       "2            Divorced  Handlers-cleaners  Not-in-family  White    Male   \n",
       "3  Married-civ-spouse  Handlers-cleaners        Husband  Black    Male   \n",
       "4  Married-civ-spouse     Prof-specialty           Wife  Black  Female   \n",
       "\n",
       "   capital-gain  capital-loss  hours-per-week native-country salary  \n",
       "0          2174             0              40  United-States  <=50K  \n",
       "1             0             0              13  United-States  <=50K  \n",
       "2             0             0              40  United-States  <=50K  \n",
       "3             0             0              40  United-States  <=50K  \n",
       "4             0             0              40           Cuba  <=50K  "
      ]
     },
     "execution_count": 3,
     "metadata": {},
     "output_type": "execute_result"
    }
   ],
   "source": [
    "# Display the first few rows of the dataframe\n",
    "df.head()"
   ]
  },
  {
   "cell_type": "code",
   "execution_count": 4,
   "id": "9504f52c",
   "metadata": {},
   "outputs": [
    {
     "name": "stdout",
     "output_type": "stream",
     "text": [
      "Number of each race:\n",
      " race\n",
      "White                 27816\n",
      "Black                  3124\n",
      "Asian-Pac-Islander     1039\n",
      "Amer-Indian-Eskimo      311\n",
      "Other                   271\n",
      "Name: count, dtype: int64\n"
     ]
    }
   ],
   "source": [
    "# 1. Number of each race represented in the dataset\n",
    "race_count = df['race'].value_counts()\n",
    "print(\"Number of each race:\\n\", race_count)"
   ]
  },
  {
   "cell_type": "code",
   "execution_count": 5,
   "id": "fb6b6424",
   "metadata": {},
   "outputs": [
    {
     "name": "stdout",
     "output_type": "stream",
     "text": [
      "Average age of men:  39.4 years\n"
     ]
    }
   ],
   "source": [
    "# 2. Average age of men\n",
    "average_age_men = round(df[df['sex'] == 'Male']['age'].mean(), 1)\n",
    "print(f\"Average age of men: \", average_age_men, \"years\")"
   ]
  },
  {
   "cell_type": "code",
   "execution_count": 6,
   "id": "cedb753c",
   "metadata": {},
   "outputs": [
    {
     "name": "stdout",
     "output_type": "stream",
     "text": [
      "Percentage of people with a Bachelor's degree: 16.45%\n"
     ]
    }
   ],
   "source": [
    "# 3. Percentage with Bachelors degree\n",
    "percentage_bachelors = df[df['education'] == 'Bachelors'].shape[0] / df.shape[0] * 100\n",
    "print(f\"Percentage of people with a Bachelor's degree: {percentage_bachelors:.2f}%\")\n",
    "\n"
   ]
  },
  {
   "cell_type": "code",
   "execution_count": 7,
   "id": "e9c74bac",
   "metadata": {},
   "outputs": [
    {
     "name": "stdout",
     "output_type": "stream",
     "text": [
      "Percentage of people with a Bachelor's degree: 16.40%\n"
     ]
    }
   ],
   "source": [
    "percentage_bachelors_1 = round(\n",
    "    (df['education'] == 'Bachelors').mean() * 100, 1\n",
    ")\n",
    "print(f\"Percentage of people with a Bachelor's degree: {percentage_bachelors_1:.2f}%\")"
   ]
  },
  {
   "cell_type": "code",
   "execution_count": 8,
   "id": "dcef5dea",
   "metadata": {},
   "outputs": [
    {
     "name": "stdout",
     "output_type": "stream",
     "text": [
      "Higher education:  7491\n",
      "Lower education:  25070\n"
     ]
    }
   ],
   "source": [
    "# 3. Higher education vs lower education\n",
    "higher_education = df['education'].isin(['Bachelors', 'Masters', 'Doctorate'])\n",
    "lower_education = ~higher_education\n",
    "\n",
    "print(\"Higher education: \", higher_education.sum())\n",
    "print(\"Lower education: \", lower_education.sum())\n"
   ]
  },
  {
   "cell_type": "code",
   "execution_count": 9,
   "id": "d50b50d7",
   "metadata": {},
   "outputs": [
    {
     "name": "stdout",
     "output_type": "stream",
     "text": [
      "Percentage of higher education with salary >50K: 46.50%\n",
      "Percentage of lower education with salary >50K: 17.40%\n"
     ]
    }
   ],
   "source": [
    "# 5. Percentage with salary >50K\n",
    "higher_education_rich = round(\n",
    "    (df[higher_education]['salary'] == '>50K').mean() * 100, 1\n",
    ")\n",
    "lower_education_rich = round(\n",
    "    (df[lower_education]['salary'] == '>50K').mean() * 100, 1\n",
    ")\n",
    "print(f\"Percentage of higher education with salary >50K: {higher_education_rich:.2f}%\")\n",
    "print(f\"Percentage of lower education with salary >50K: {lower_education_rich:.2f}%\")"
   ]
  },
  {
   "cell_type": "code",
   "execution_count": 14,
   "id": "120374c0",
   "metadata": {},
   "outputs": [
    {
     "name": "stdout",
     "output_type": "stream",
     "text": [
      "Percentage of higher education with salary >50K: 46.50%\n",
      "Percentage of lower education with salary >50K: 17.40%\n"
     ]
    }
   ],
   "source": [
    "rich = df['salary'] == '>50K'\n",
    "higher_education_rich = round(\n",
    "    (df[higher_education & rich].shape[0] / higher_education.sum()) * 100, 1\n",
    ")\n",
    "lower_education_rich = round(\n",
    "    (df[lower_education & rich].shape[0] / lower_education.sum()) * 100, 1\n",
    ")\n",
    "print(f\"Percentage of higher education with salary >50K: {higher_education_rich:.2f}%\")\n",
    "print(f\"Percentage of lower education with salary >50K: {lower_education_rich:.2f}%\")"
   ]
  },
  {
   "cell_type": "code",
   "execution_count": 15,
   "id": "251284e2",
   "metadata": {},
   "outputs": [
    {
     "name": "stdout",
     "output_type": "stream",
     "text": [
      "Minimum work hours: 1 hours/week\n"
     ]
    }
   ],
   "source": [
    "# 6. Minimum work hours\n",
    "min_work_hours = df['hours-per-week'].min()\n",
    "print(f\"Minimum work hours: {min_work_hours} hours/week\")"
   ]
  },
  {
   "cell_type": "code",
   "execution_count": 16,
   "id": "2154e559",
   "metadata": {},
   "outputs": [
    {
     "name": "stdout",
     "output_type": "stream",
     "text": [
      "Percentage of rich among those who work 1 hours/week: 10.00%\n"
     ]
    }
   ],
   "source": [
    " # 7. Percentage of rich among those who work min hours\n",
    "min_workers = df[df['hours-per-week'] == min_work_hours]\n",
    "rich_percentage = round(\n",
    "    (min_workers['salary'] == '>50K').mean() * 100, 1\n",
    ")\n",
    "print(f\"Percentage of rich among those who work {min_work_hours} hours/week: {rich_percentage:.2f}%\")   "
   ]
  },
  {
   "cell_type": "code",
   "execution_count": 17,
   "id": "c19cff12",
   "metadata": {},
   "outputs": [
    {
     "name": "stdout",
     "output_type": "stream",
     "text": [
      "Percentage of rich among those who work 1 hours/week: 10.00%\n"
     ]
    }
   ],
   "source": [
    "# What percentage of the people who work the minimum number of hours per week have a salary of >50K?\n",
    "num_min_workers = df[df['hours-per-week'] == min_work_hours]\n",
    "\n",
    "rich_percentage_1 = round(\n",
    "    (num_min_workers[num_min_workers['salary'] == '>50K'].shape[0] / num_min_workers.shape[0]) * 100, 1\n",
    ")\n",
    "print(f\"Percentage of rich among those who work {min_work_hours} hours/week: {rich_percentage_1:.2f}%\")"
   ]
  },
  {
   "cell_type": "code",
   "execution_count": null,
   "id": "4d01dd4b",
   "metadata": {},
   "outputs": [
    {
     "name": "stdout",
     "output_type": "stream",
     "text": [
      "Country with highest percentage of people earning >50K: Iran (41.90%)\n"
     ]
    }
   ],
   "source": [
    " # 8. Country with highest percentage of people earning >50K\n",
    "country_rich = (\n",
    "    df[df['salary'] == '>50K']['native-country']\n",
    "    .value_counts() / df['native-country'].value_counts()\n",
    ") * 100\n",
    "highest_earning_country = country_rich.idxmax()\n",
    "highest_earning_country_percentage = round(country_rich.max(), 1)\n",
    "print(f\"Country with highest percentage of people earning >50K: {highest_earning_country} ({highest_earning_country_percentage:.2f}%)\")"
   ]
  },
  {
   "cell_type": "code",
   "execution_count": 19,
   "id": "300d02f9",
   "metadata": {},
   "outputs": [
    {
     "name": "stdout",
     "output_type": "stream",
     "text": [
      "native-country\n",
      "?                             25.042882\n",
      "Cambodia                      36.842105\n",
      "Canada                        32.231405\n",
      "China                         26.666667\n",
      "Columbia                       3.389831\n",
      "Cuba                          26.315789\n",
      "Dominican-Republic             2.857143\n",
      "Ecuador                       14.285714\n",
      "El-Salvador                    8.490566\n",
      "England                       33.333333\n",
      "France                        41.379310\n",
      "Germany                       32.116788\n",
      "Greece                        27.586207\n",
      "Guatemala                      4.687500\n",
      "Haiti                          9.090909\n",
      "Holand-Netherlands                  NaN\n",
      "Honduras                       7.692308\n",
      "Hong                          30.000000\n",
      "Hungary                       23.076923\n",
      "India                         40.000000\n",
      "Iran                          41.860465\n",
      "Ireland                       20.833333\n",
      "Italy                         34.246575\n",
      "Jamaica                       12.345679\n",
      "Japan                         38.709677\n",
      "Laos                          11.111111\n",
      "Mexico                         5.132193\n",
      "Nicaragua                      5.882353\n",
      "Outlying-US(Guam-USVI-etc)          NaN\n",
      "Peru                           6.451613\n",
      "Philippines                   30.808081\n",
      "Poland                        20.000000\n",
      "Portugal                      10.810811\n",
      "Puerto-Rico                   10.526316\n",
      "Scotland                      25.000000\n",
      "South                         20.000000\n",
      "Taiwan                        39.215686\n",
      "Thailand                      16.666667\n",
      "Trinadad&Tobago               10.526316\n",
      "United-States                 24.583476\n",
      "Vietnam                        7.462687\n",
      "Yugoslavia                    37.500000\n",
      "Name: count, dtype: float64\n"
     ]
    }
   ],
   "source": [
    "print(country_rich)"
   ]
  },
  {
   "cell_type": "code",
   "execution_count": 22,
   "id": "471613dd",
   "metadata": {},
   "outputs": [
    {
     "name": "stdout",
     "output_type": "stream",
     "text": [
      "Most popular occupation for >50K earners in India: Prof-specialty\n"
     ]
    }
   ],
   "source": [
    "# 9. Most popular occupation for >50K earners in India\n",
    "top_IN_occupation = (\n",
    "    df[(df['native-country'] == 'India') & (df['salary'] == '>50K')]\n",
    "    ['occupation']\n",
    "    .value_counts()\n",
    "    .idxmax()\n",
    ")\n",
    "print(f\"Most popular occupation for >50K earners in India: {top_IN_occupation}\")"
   ]
  },
  {
   "cell_type": "code",
   "execution_count": null,
   "id": "9bb74d9a",
   "metadata": {},
   "outputs": [],
   "source": []
  }
 ],
 "metadata": {
  "kernelspec": {
   "display_name": "trading",
   "language": "python",
   "name": "python3"
  },
  "language_info": {
   "codemirror_mode": {
    "name": "ipython",
    "version": 3
   },
   "file_extension": ".py",
   "mimetype": "text/x-python",
   "name": "python",
   "nbconvert_exporter": "python",
   "pygments_lexer": "ipython3",
   "version": "3.9.1"
  }
 },
 "nbformat": 4,
 "nbformat_minor": 5
}
